{
 "cells": [
  {
   "cell_type": "code",
   "execution_count": null,
   "metadata": {},
   "outputs": [],
   "source": []
  },
  {
   "cell_type": "markdown",
   "metadata": {},
   "source": [
    "I am so happy to start python class with static type"
   ]
  },
  {
   "cell_type": "code",
   "execution_count": 1,
   "metadata": {
    "vscode": {
     "languageId": "powershell"
    }
   },
   "outputs": [
    {
     "name": "stdout",
     "output_type": "stream",
     "text": [
      "hello world\n"
     ]
    }
   ],
   "source": [
    "print(\"hello world\")"
   ]
  },
  {
   "cell_type": "code",
   "execution_count": 2,
   "metadata": {
    "vscode": {
     "languageId": "powershell"
    }
   },
   "outputs": [
    {
     "name": "stdout",
     "output_type": "stream",
     "text": [
      "hello world\n"
     ]
    }
   ],
   "source": [
    "print(\"hello world\")"
   ]
  },
  {
   "cell_type": "code",
   "execution_count": 3,
   "metadata": {
    "vscode": {
     "languageId": "powershell"
    }
   },
   "outputs": [
    {
     "name": "stdout",
     "output_type": "stream",
     "text": [
      "hello world\n"
     ]
    }
   ],
   "source": [
    "print(\"hello world\")"
   ]
  },
  {
   "cell_type": "code",
   "execution_count": 4,
   "metadata": {
    "vscode": {
     "languageId": "powershell"
    }
   },
   "outputs": [
    {
     "name": "stdout",
     "output_type": "stream",
     "text": [
      "I love pakistan. Yar allaha pak help all muslims \n"
     ]
    }
   ],
   "source": [
    "print(\"I love pakistan. Yar allaha pak help all muslims \")"
   ]
  },
  {
   "cell_type": "code",
   "execution_count": 5,
   "metadata": {
    "vscode": {
     "languageId": "powershell"
    }
   },
   "outputs": [
    {
     "name": "stdout",
     "output_type": "stream",
     "text": [
      " greate it is very important to achive this gola\n"
     ]
    }
   ],
   "source": [
    "print(\" greate it is very important to achive this gola\")"
   ]
  },
  {
   "cell_type": "code",
   "execution_count": 4,
   "metadata": {
    "vscode": {
     "languageId": "powershell"
    }
   },
   "outputs": [
    {
     "name": "stdout",
     "output_type": "stream",
     "text": [
      "pakistan zindabad\n",
      "pakistan zindabad\n",
      "pakistan zindabad\n",
      "pakistan zindabad\n",
      "pakistan zindabad\n",
      "pakistan zindabad\n",
      "pakistan zindabad\n",
      "pakistan zindabad\n",
      "pakistan zindabad\n",
      "pakistan zindabad\n",
      "pakistan zindabad\n",
      "pakistan zindabad\n",
      "pakistan zindabad\n",
      "pakistan zindabad\n",
      "pakistan zindabad\n",
      "pakistan zindabad\n",
      "pakistan zindabad\n",
      "pakistan zindabad\n",
      "pakistan zindabad\n",
      "pakistan zindabad\n",
      "pakistan zindabad\n",
      "pakistan zindabad\n",
      "pakistan zindabad\n",
      "pakistan zindabad\n"
     ]
    }
   ],
   "source": [
    "print(\"pakistan zindabad\")\n",
    "print(\"pakistan zindabad\")\n",
    "print(\"pakistan zindabad\")\n",
    "print(\"pakistan zindabad\")\n",
    "print(\"pakistan zindabad\")\n",
    "print(\"pakistan zindabad\")\n",
    "print(\"pakistan zindabad\")\n",
    "print(\"pakistan zindabad\")\n",
    "print(\"pakistan zindabad\")\n",
    "print(\"pakistan zindabad\")\n",
    "print(\"pakistan zindabad\")\n",
    "print(\"pakistan zindabad\")\n",
    "print(\"pakistan zindabad\")\n",
    "print(\"pakistan zindabad\")\n",
    "print(\"pakistan zindabad\")\n",
    "print(\"pakistan zindabad\")\n",
    "print(\"pakistan zindabad\")\n",
    "print(\"pakistan zindabad\")\n",
    "print(\"pakistan zindabad\")\n",
    "print(\"pakistan zindabad\")\n",
    "print(\"pakistan zindabad\")\n",
    "print(\"pakistan zindabad\")\n",
    "print(\"pakistan zindabad\")\n",
    "print(\"pakistan zindabad\")\n",
    "\n",
    "\n"
   ]
  }
 ],
 "metadata": {
  "kernelspec": {
   "display_name": "Python 3",
   "language": "python",
   "name": "python3"
  },
  "language_info": {
   "codemirror_mode": {
    "name": "ipython",
    "version": 3
   },
   "file_extension": ".py",
   "mimetype": "text/x-python",
   "name": "python",
   "nbconvert_exporter": "python",
   "pygments_lexer": "ipython3",
   "version": "3.11.5"
  }
 },
 "nbformat": 4,
 "nbformat_minor": 2
}
